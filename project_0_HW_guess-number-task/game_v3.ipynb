{
 "cells": [
  {
   "cell_type": "markdown",
   "metadata": {},
   "source": [
    "# Игра угадай число\n",
    "компьютер играет сам с собой\n",
    "\n",
    "(развлекательный контент для компов)"
   ]
  },
  {
   "cell_type": "code",
   "execution_count": 6,
   "metadata": {},
   "outputs": [],
   "source": [
    "from game_v3 import score_game\n",
    "from game_v3 import number_predict"
   ]
  },
  {
   "cell_type": "markdown",
   "metadata": {},
   "source": [
    "## Угадываем по алгоритму:\n",
    "Алгоритм \"как поймать льва в пустыне\":  \n",
    "- делим пустыню на две половины;  \n",
    "- определяем в какой из половин находится лев;\n",
    "- делим ее опять на две половины;\n",
    "- опять смотрим в какой уже из половин половин оказался лев;\n",
    "- продолжаем делить на половинки дальше, пока размер участка пустыни со львом не станет равным размеру клетки;\n",
    "- ставим забор;\n",
    "- бинго! лев в клетке."
   ]
  },
  {
   "cell_type": "code",
   "execution_count": 8,
   "metadata": {},
   "outputs": [
    {
     "name": "stdout",
     "output_type": "stream",
     "text": [
      "Ваш алгоритм угадывает число в среднем за: 5 попыток\n"
     ]
    },
    {
     "data": {
      "text/plain": [
       "5"
      ]
     },
     "execution_count": 8,
     "metadata": {},
     "output_type": "execute_result"
    }
   ],
   "source": [
    "score_game(number_predict)"
   ]
  }
 ],
 "metadata": {
  "interpreter": {
   "hash": "270c1020b95f23fd87a9d58c328f52a10e4eba1d377243b242e22774e6be64ed"
  },
  "kernelspec": {
   "display_name": "Python 3.10.4 64-bit",
   "language": "python",
   "name": "python3"
  },
  "language_info": {
   "codemirror_mode": {
    "name": "ipython",
    "version": 3
   },
   "file_extension": ".py",
   "mimetype": "text/x-python",
   "name": "python",
   "nbconvert_exporter": "python",
   "pygments_lexer": "ipython3",
   "version": "3.10.4"
  },
  "orig_nbformat": 4
 },
 "nbformat": 4,
 "nbformat_minor": 2
}
